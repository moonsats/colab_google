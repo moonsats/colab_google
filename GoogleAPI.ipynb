{
 "cells": [
  {
   "cell_type": "code",
   "execution_count": null,
   "metadata": {
    "id": "QNaJK5ZttPau"
   },
   "outputs": [],
   "source": [
    "# Description"
   ]
  },
  {
   "cell_type": "code",
   "execution_count": null,
   "metadata": {
    "colab": {
     "base_uri": "https://localhost:8080/",
     "height": 110
    },
    "id": "K1e--OzLttj_",
    "outputId": "3b024ce7-d88b-4097-fb0c-404f78e9620b"
   },
   "outputs": [],
   "source": [
    "# -*- coding=utf-8 -*-\n",
    "\"\"\"\n",
    "주요 기능: GoogleAPI 연결, 기본 변수(file_id, mime_type) 설정\n",
    "    - Super Class(GoogleSheets, GoogleDrive, ... 등) \n",
    "    - Google API Service 접속\n",
    "        - user_nick(OAuth 2.0 Client ID)\n",
    "        - bot_nick(Service Account)\n",
    "        - api_key(API Key)  ## 구현되어 있지 않음\n",
    "    - list: 파일/폴더 검색(file_type, query)\n",
    "    - id_by_name: file_id 검색(app_name, file_name)\n",
    "    - id_by_path: file_id 검색(app_name, file_path)\n",
    "\n",
    "사용 방법: \n",
    "    - \n",
    "\n",
    "참조 자료:\n",
    "    - \n",
    "\n",
    "필요 환경:\n",
    "    - pip requirements:\n",
    "    - \n",
    "\"\"\""
   ]
  },
  {
   "cell_type": "markdown",
   "metadata": {
    "id": "wp6ZFkHYrv_C"
   },
   "source": [
    "# References\n",
    "- [Google Drive for Developers > Drive API(V3)](https://developers.google.com/drive/api/v3/reference)\n",
    "- [Google Drive for Developers > Drive API(V3) > Files](https://developers.google.com/drive/api/v3/reference/files)"
   ]
  },
  {
   "cell_type": "markdown",
   "metadata": {
    "id": "zQu6ruLzNVrE"
   },
   "source": [
    "# Import Packages"
   ]
  },
  {
   "cell_type": "markdown",
   "metadata": {
    "id": "_iCDn1vUN0Yd"
   },
   "source": [
    "## BuiltIn Packages"
   ]
  },
  {
   "cell_type": "code",
   "execution_count": null,
   "metadata": {
    "id": "bApz_Ptm2V4G"
   },
   "outputs": [],
   "source": [
    "##@@@ Package/Module\n",
    "##============================================================\n",
    "\n",
    "##@@ Built-In Package/Module\n",
    "##------------------------------------------------------------\n",
    "import os, sys\n",
    "from pprint import pprint\n",
    "\n",
    "import json\n",
    "\n",
    "from googleapiclient.discovery import build"
   ]
  },
  {
   "cell_type": "markdown",
   "metadata": {
    "id": "IlVDkdHwN91X"
   },
   "source": [
    "## External Packages(installed by pip)"
   ]
  },
  {
   "cell_type": "code",
   "execution_count": null,
   "metadata": {
    "colab": {
     "base_uri": "https://localhost:8080/"
    },
    "id": "Iqx9-HsxOexg",
    "outputId": "86356d2e-1e9a-45f5-af6f-ee03153db2b0"
   },
   "outputs": [],
   "source": [
    "## Local(PC Drive) 환경인지 Cloud(Google Drive) 환경인지 확인\n",
    "ENV = \"_LOCAL_\"\n",
    "if \"content\" in os.getcwd():\n",
    "    ENV = \"_GDRIVE_\"\n",
    "\n",
    "if ENV == \"_LOCAL_\":\n",
    "    try: # LOCAL SHELL\n",
    "        cwd = __file__\n",
    "    except:  # LODAL JUPYTER\n",
    "        import import_ipynb  ## NOTE: .ipynb을 import 할 수 있도록 하는 모듈\n",
    "    \n",
    "    from GoogleAuth import GoogleAuth\n",
    "    PATH_CONFIGS = \"./configs\"\n",
    "else:\n",
    "    sys.path.insert(0, '/content/drive/MyDrive/__COLAB/PACKAGES')\n",
    "    import import_ipynb  ## NOTE: .ipynb을 import 할 수 있도록 하는 모듈\n",
    "    sys.path.insert(0, '/content/drive/MyDrive/__COLAB/__GOOGLE')\n",
    "    ## NOTE: 현재 디렉토리로 이동한 후 import해야 함\n",
    "    # %cd /content/drive/MyDrive/__COLAB/__GOOGLE\n",
    "    from GoogleAuth import GoogleAuth\n",
    "    PATH_CONFIGS = \"/content/drive/MyDrive/__COLAB/CONFIGS/GOOGLE/\""
   ]
  },
  {
   "cell_type": "markdown",
   "metadata": {
    "id": "JyWDWBsoOsdi"
   },
   "source": [
    "# Global Constants"
   ]
  },
  {
   "cell_type": "code",
   "execution_count": null,
   "metadata": {
    "id": "W0JM53vT0YLK"
   },
   "outputs": [],
   "source": [
    "##@@ User Package/Module\n",
    "##------------------------------------------------------------\n",
    "\n",
    "##@@@ Constant/Varible\n",
    "##============================================================\n",
    "\n",
    "##@@ Constant\n",
    "##------------------------------------------------------------\n",
    "\n",
    "##@@ Variable(Golobal)\n",
    "##------------------------------------------------------------"
   ]
  },
  {
   "cell_type": "markdown",
   "metadata": {
    "id": "HY7EmzWoPB_U"
   },
   "source": [
    "# Private Functions"
   ]
  },
  {
   "cell_type": "markdown",
   "metadata": {
    "id": "utndaX0jP4Pc"
   },
   "source": [
    "## mime_type"
   ]
  },
  {
   "cell_type": "code",
   "execution_count": null,
   "metadata": {
    "id": "PFd3gI3ONKhj"
   },
   "outputs": [],
   "source": [
    "##@@@ Private Function\n",
    "##============================================================\n",
    "\n",
    "##@@ path, credentials\n",
    "##------------------------------------------------------------\n",
    "def _get_path(path_type, user_nick=\"\", settings_folder=PATH_CONFIGS):\n",
    "    \"\"\"\n",
    "\n",
    "    \"\"\"\n",
    "    path = settings_folder[:-1] if settings_folder[-1] == \"/\" else settings_folder\n",
    "    if path_type == 'mime_type':  # api spec(version, scope)\n",
    "        path += f\"/__mime_type.json\"\n",
    "    else:  ## TODO: 환경 변수(export_map 등) 설정 추가\n",
    "        pass\n",
    "\n",
    "    return path\n",
    "\n",
    "\n",
    "def _set_map_mime_type():\n",
    "    with open(_get_path(\"mime_type\"), 'r') as f:\n",
    "        return json.load(f)"
   ]
  },
  {
   "cell_type": "markdown",
   "metadata": {
    "id": "vWhmhG-eQD1_"
   },
   "source": [
    "# Main Class"
   ]
  },
  {
   "cell_type": "code",
   "execution_count": null,
   "metadata": {
    "id": "5dHwSOFJQD2X"
   },
   "outputs": [],
   "source": [
    "##@@@ Main Class\n",
    "##============================================================\n",
    "class GoogleAPI(GoogleAuth):\n",
    "    def __init__(self, api_name, user_nick=None, bot_nick=None, path=None):\n",
    "        \"\"\"__init__: Object 초기화\n",
    "        Desc:\n",
    "            - Google Drive Service 연결(user_nick)\n",
    "            - path 폴더 기준\n",
    "\n",
    "        Args:\n",
    "            - user_nick(str, None): 구글계정 별칭(master: monblue@snu.ac.kr / moonitdev: moonitdev@gmail.com / ...)\n",
    "            - bot_nick(str, None): GCP(google cloud platform) Project 서비스 계정(Bot) 별칭(mats, moonMaster, ...)\n",
    "            - path(str, None): Google Drive 기준 폴더(경로) 예) __COLAB/_TEST\n",
    "\n",
    "        Usages:\n",
    "            - [description]\n",
    "        \"\"\"\n",
    "        super().__init__(user_nick=user_nick, bot_nick=bot_nick)\n",
    "        api_name = api_name.lower()  # TODO: 필요한지 확인\n",
    "        self.api_name = api_name\n",
    "        self.user_nick = user_nick\n",
    "        self.bot_nick = bot_nick\n",
    "        self.mime_type = _set_map_mime_type()\n",
    "        self.service = build(api_name, self.version[api_name], credentials = self.credentials)\n",
    "        \n",
    "        if api_name == \"drive\":\n",
    "            self.drive = self.service \n",
    "        else:\n",
    "            self.drive = build(\"drive\", self.version[\"drive\"], credentials = self.credentials)\n",
    "\n",
    "\n",
    "    ##@@ Private Function\n",
    "    ##------------------------------------------------------------\n",
    "    @staticmethod\n",
    "    def _path_split(path, separator=\"/\"):\n",
    "        path = path.replace(\"\\\\\", \"/\")\n",
    "        return path if type(path) == list else path.split(separator) if type(path) == str else None ## NOTE: path를 list 형식으로 변경\n",
    "\n",
    "\n",
    "    def _query_mime_type(self, type=None):\n",
    "        if type == None:\n",
    "            return None\n",
    "        elif type == 'file':\n",
    "            query = \"mimeType != 'application/vnd.google-apps.folder'\"\n",
    "        else:\n",
    "            query = f\"mimeType = '{self.mime_type[type]}'\"\n",
    "        return query\n",
    "\n",
    "\n",
    "    def _query(self, type=None, queries=[]):\n",
    "        return \" and \".join(queries if type is None else [self._query_mime_type(type)] + queries)\n",
    "\n",
    "\n",
    "    def _list(self, type=None, queries=[], trashed=False, out_type=\"dict\"):\n",
    "        \"\"\"list_of_book: google sheets 전체 목록\n",
    "        Desc:\n",
    "            - type(str, None): app_name / file type_nick  예) sheets, script, xlsx, json, ...\n",
    "            - queries(list, []): 검색 쿼리 리스트: [\"name = 'file_name1'\", ...]\n",
    "            - trashed(bool, False): 휴지통에 있는 파일 검색 여부 \n",
    "\n",
    "        Returns:\n",
    "            - list: file type, queries에 해당하는 folder/file 리스트\n",
    "        \"\"\"\n",
    "        # print(f\"mimetype: {_APP_NAME_MAP[app]['mimeType']}\")\n",
    "        queries = queries + [\"trashed = false\"] if trashed == False else queries + [\"trashed = true\"]\n",
    "        query = self._query(type=type, queries=queries)\n",
    "\n",
    "        results = self.drive.files().list(\n",
    "            q = query,\n",
    "            fields = \"nextPageToken, files(id, name, mimeType, parents)\"\n",
    "        ).execute()\n",
    "\n",
    "        if out_type == \"dict\":\n",
    "            results = {item['name']: item['id'] for item in results.get('files', [])}\n",
    "        \n",
    "        return results\n",
    "\n",
    "\n",
    "    def _id_by_name(self, name, type=None, queries=[], trashed=False):\n",
    "        queries = [f\"name = '{name}'\"] + queries\n",
    "        files = self._list(type=type, queries=queries, trashed=trashed, out_type=\"dict\")\n",
    "        return files[name] if files else None\n",
    "\n",
    "\n",
    "    def _children_by_parents_id(self, parents_id, folder=False):\n",
    "        query = f\"'{parents_id}' in parents\"\n",
    "        if folder:\n",
    "            query += \" and mimeType = 'application/vnd.google-apps.folder'\"\n",
    "\n",
    "        return self.drive.files().list(\n",
    "            q = query, \n",
    "            fields=\"nextPageToken, files(id, name)\"\n",
    "        ).execute().get('files', [])\n",
    "\n",
    "\n",
    "    def _child_id_by_name(self, parents_id, child_name):\n",
    "        child = [d for d in self._children_by_parents_id(parents_id) if d.get(\"name\", []) == child_name]\n",
    "        return child[0]['id'] if len(child) > 0 else None\n",
    "\n",
    "\n",
    "    def _parents_id_by_file_id(self, file_id):\n",
    "        response = self.drive.files().get(fileId=file_id, fields=\"parents\").execute()\n",
    "        if response:\n",
    "            return response[\"parents\"][0]\n",
    "        else:\n",
    "            return \"root\"\n",
    "\n",
    "\n",
    "    def _ids_by_path(self, path=None, separator=\"/\", folder=False):\n",
    "        \"\"\"\n",
    "        return: [{'': 'root'}, {'folder1': 'folder_id1'}, ... {'folder_i': None},... {'folder_n': None}]\n",
    "        ## TODO: path에 파일이름이 포함되어 있는 경우, 폴더만 출력하기(folder=True)\n",
    "        \"\"\"\n",
    "        path = path.strip()\n",
    "        path = path[:-1] if path[-1] == \"/\" else path  ## TODO: 마지막 문자가 \"///\" 형태인 경우도 적용되도록\n",
    "        names = self._path_split(path, separator=separator) ## NOTE: path를 list 형식으로 변경\n",
    "        if not names:\n",
    "            return \"root\"\n",
    "        if folder:  # 마지막 경로 이름 제거(file로 간주) \n",
    "            names = names[:-1]\n",
    "\n",
    "        paths = [{name: None} for name in names]\n",
    "        print(f\"paths: {paths}\")\n",
    "        file_id = \"root\" if names[0].lower() in [\"\", \"내 드라이브\", \"my drive\", \"mydrive\", \"drive\"] else self._id_by_name(names[0])\n",
    "        paths[0] = {names[0]: file_id}\n",
    "        for i, name in enumerate(names[:-1]):\n",
    "            # print(f\"BEFORE: name: {name}, file_id: {file_id}\")\n",
    "            _file_id = self._child_id_by_name(file_id, names[i+1])\n",
    "            paths[i+1] = {names[i+1]: _file_id}\n",
    "            # print(f\"AFTER: names[{i+1}]: {names[i+1]}, file_id: {_file_id}, paths[{i+1}]: {paths[i+1]}\")\n",
    "            if _file_id == None:\n",
    "                # paths[i+1] = {names[i+1]: file_id}\n",
    "                break\n",
    "            file_id = _file_id\n",
    "\n",
    "        return paths\n",
    "\n",
    "\n",
    "    def _create_folder_by_parents_id(self, name, parents_id=None):\n",
    "        parents_id = self.id if parents_id == None else parents_id\n",
    "        return self.drive.files().create(\n",
    "            body = {\n",
    "                'name': name,\n",
    "                'mimeType': 'application/vnd.google-apps.folder',\n",
    "                'parents': [parents_id]\n",
    "            },\n",
    "            fields = 'id'\n",
    "        ).execute().get('id', None)\n",
    "\n",
    "\n",
    "    def _create_folders_by_paths(self, paths):\n",
    "        \"\"\"\n",
    "        paths: [{'': 'root'}, {'folder1': 'folder_id1'}, ... {'folder_i': None},... {'folder_n': None}]\n",
    "        \"\"\"\n",
    "        folder_names = [list(path.keys())[0] for path in paths]\n",
    "        folder_ids = [list(path.values())[0] for path in paths]\n",
    "\n",
    "        for i, folder_id in enumerate(folder_ids):\n",
    "            if folder_id == None:\n",
    "                # print(folder_names[i], folder_ids[i-1])\n",
    "                folder_ids[i] = self._create_folder_by_parents_id(folder_names[i], parents_id=folder_ids[i-1])\n",
    "        \n",
    "        return folder_ids[-1]\n",
    "\n",
    "\n",
    "    def _id_by_path(self, path=None, separator=\"/\", folder=False, auto_create=False, parents=False):\n",
    "        ## @@@ TODO: len(paths) == 0, len(paths) == 1인 경우 처리\n",
    "        \"\"\"\n",
    "        return: [{'': 'root'}, {'folder1': 'folder_id1'}, ... {'folder_i': None},... {'folder_n': None}]\n",
    "        ## TODO: path에 파일이름이 포함되어 있는 경우, 폴더만 출력하기(folder=True)\n",
    "        auto_create: 해당 경로가 없으면 폴더 생성\n",
    "        \"\"\"\n",
    "        paths = self._ids_by_path(path=path, folder=folder)\n",
    "        last_name = list(paths[-1].keys())[0]  # 마지막 path 항목 file name\n",
    "        last_id = list(paths[-1].values())[0]  # 마지막 path 항목 file_id(파일일 수 있음)\n",
    "        parents_id = list(paths[-2].values())[0]  # 끝으로 2번째 path 항목 file_id(last_id가 파일인 경우에 사용)\n",
    "\n",
    "        if auto_create:  # 폴더 자동 생성\n",
    "            parents_id = self._create_folders_by_paths(paths)  # 마지막 생성된 folder id(마지막 항목이 파일인 경우: 위의 parents_id와 동일)\n",
    "            ## folder 생성\n",
    "        if parents:  # NOTE: (name, parents_id)\n",
    "            if folder:\n",
    "                parents_id = last_id  ## 폴더만 있는 경우\n",
    "            return (last_name, parents_id)\n",
    "        else:\n",
    "            return id\n",
    "\n",
    "\n",
    "    ##@@ Public Function\n",
    "    ##------------------------------------------------------------\n",
    "    def list(self, out_type=\"list\"):\n",
    "        return self._list(type=self.api_name, out_type=out_type)\n",
    "\n",
    "\n",
    "    # def id_by_name(self, name, app=\"sheets\"):\n",
    "    def id_by_name(self, name):\n",
    "        return self._id_by_name(name, type=self.api_name)\n",
    "\n",
    "\n",
    "    def name_by_id(self, file_id):\n",
    "        return self.drive.files().get(fileId=file_id, fields=\"name\").execute()[\"name\"]\n",
    "\n",
    "\n",
    "    def id_by_path(self, path=None, separator=\"/\"):\n",
    "        path = _path_split(path) ## NOTE: path를 list 형식으로 변경\n",
    "        # path = path if type(path) == list else path.split(separator) if type(path) == str else None ## NOTE: path를 list 형식으로 변경\n",
    "        if not path:\n",
    "            return \"root\"   \n",
    "        parents_id = \"root\" if path[0].lower() in [\"\", \"내 드라이브\", \"my drive\", \"mydrive\", \"drive\"] else self.id_by_name(path[0])\n",
    "        for name in path[1:]:\n",
    "            parents_id = self._child_id_by_name(parents_id, name)\n",
    "            print(f\"name: {name}, parents_id: {parents_id}\")\n",
    "            if parents_id == None:\n",
    "                break\n",
    "        return parents_id\n",
    "\n",
    "\n",
    "    def path_by_id(self, file_id, root=\"\"):\n",
    "        path = [self.name_by_id(file_id)]\n",
    "        print(f\"path: {path}\")\n",
    "        while file_id != \"root\":\n",
    "            file_id = self._parents_id_by_file_id(file_id)\n",
    "            if file_id == \"root\":\n",
    "                break\n",
    "            file_name = self.name_by_id(file_id)\n",
    "            path.append(file_name)\n",
    "        return \"/\".join(reversed(path))\n",
    "\n"
   ]
  },
  {
   "cell_type": "markdown",
   "metadata": {
    "id": "54Vi3P91RAhC"
   },
   "source": [
    "# main(`__init__`)"
   ]
  },
  {
   "cell_type": "code",
   "execution_count": null,
   "metadata": {
    "id": "GEPdWEboQD2Y"
   },
   "outputs": [],
   "source": [
    "##@@@ Main Function\n",
    "##============================================================\n",
    "if __name__ == \"__main__\":\n",
    "    user_nick = \"satsbymoon\"\n",
    "    gds = GoogleAPI(\"sheets\", user_nick=user_nick, bot_nick=None)\n",
    "    # # user_nick = \"master\"\n",
    "    # # bot_nick = \"mats\"\n",
    "\n",
    "    l = gds.list()\n",
    "    # l = gss.id_by_name(name=\"Master_Configs_Google\", app=\"sheets\")\n",
    "    pprint(l)\n",
    "\n",
    "    # \n",
    "    parents_id = \"1yth9jH4WSenKOBFmlivLXlWcxDnr79i1\"\n",
    "    parents_id = \"1ywx8F3Ujx0wH093wznXf0qgYo1mhKDRs\"\n",
    "    # r = gds._children_by_parents_id(parents_id)\n",
    "    # r = gds._child_id_by_name(parents_id, \"GoogleDrive.ipynb\")\n",
    "    # r = gds._ids_by_path(path=\"/__COLAB/__GOOGLE1/GoogleDrive.ipynb\")\n",
    "    r = gds._ids_by_path(path=\"/__COLAB/__GOOGLE/\")"
   ]
  },
  {
   "cell_type": "markdown",
   "metadata": {
    "id": "Q9hTgnu2R54w"
   },
   "source": [
    "## list"
   ]
  },
  {
   "cell_type": "code",
   "execution_count": null,
   "metadata": {
    "colab": {
     "base_uri": "https://localhost:8080/"
    },
    "id": "e565fDTYRrnS",
    "outputId": "ffbae45d-7537-42fe-d231-6ade8887c7a6",
    "scrolled": true
   },
   "outputs": [],
   "source": [
    "    ##@@ NOTE: drive\n",
    "    # l = gds._list(queries=[\"parents = '1cXwU3nf9_CldBFWzb8DzJqlgs3sDyc7P'\"], out_type=\"list\")\n",
    "\n",
    "\n",
    "    # path = \"/__COLAB/CONFIGS/GOOGLE\"\n",
    "    # path = \"/__COLAB/__GOOGLE/GoogeSheets.ipynb\"\n",
    "    # r = gds.id_by_path(path=path)\n",
    "    # print(r)    \n",
    "    # gss = Google(\"sheets\", user_nick=None, bot_nick=bot_nick)"
   ]
  },
  {
   "cell_type": "markdown",
   "metadata": {
    "id": "voSoS7x-uxbU"
   },
   "source": [
    "## id, name, path"
   ]
  },
  {
   "cell_type": "code",
   "execution_count": null,
   "metadata": {
    "colab": {
     "base_uri": "https://localhost:8080/"
    },
    "id": "IULR7V1suxbV",
    "outputId": "80834df9-3c93-45f5-84f2-b7b8ba07f879"
   },
   "outputs": [],
   "source": [
    "\n",
    "    # id_by_name\n",
    "    # r = gds.id_by_name(\"Master_Configs_Google\")\n",
    "    # _parents_id_by_file_id\n",
    "    # file_id = \"1jVOmj_-RTjv1Pec28WCxpn9c3oJm_cjn\"\n",
    "    # r = gds._parents_id_by_file_id(file_id=file_id)\n",
    "    # r = gds.path_by_id(file_id=file_id)\n",
    "    \n",
    "    # file_id = \"1ywx8F3Ujx0wH093wznXf0qgYo1mhKDRs\"\n",
    "    # r = gds.drive.files().get(fileId=file_id, fields=\"name\").execute()[\"name\"]\n",
    "    # r = gds.name_by_id(file_id)\n",
    "    pprint(r)\n"
   ]
  },
  {
   "cell_type": "markdown",
   "metadata": {
    "id": "BB0OKt5rVnIe"
   },
   "source": [
    "# PlayGround"
   ]
  }
 ],
 "metadata": {
  "colab": {
   "collapsed_sections": [],
   "name": "GoogleAPI.ipynb",
   "provenance": []
  },
  "kernelspec": {
   "display_name": "Python 3",
   "language": "python",
   "name": "python3"
  },
  "language_info": {
   "codemirror_mode": {
    "name": "ipython",
    "version": 3
   },
   "file_extension": ".py",
   "mimetype": "text/x-python",
   "name": "python",
   "nbconvert_exporter": "python",
   "pygments_lexer": "ipython3",
   "version": "3.8.6"
  }
 },
 "nbformat": 4,
 "nbformat_minor": 1
}
